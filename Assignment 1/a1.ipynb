{
 "cells": [
  {
   "cell_type": "code",
   "execution_count": 40,
   "metadata": {
    "collapsed": false
   },
   "outputs": [
    {
     "name": "stdout",
     "output_type": "stream",
     "text": [
      "[array([[18, 32, 50, 18],\n",
      "       [ 8, 18, 32,  8],\n",
      "       [ 2,  8, 18,  2],\n",
      "       [ 0,  2,  8,  0]], dtype=int32)]\n"
     ]
    }
   ],
   "source": [
    "import tensorflow as tf\n",
    "\n",
    "def euclideanDistance(x, z):\n",
    "    y = x-z\n",
    "    distance = tf.transpose(y)*(y)\n",
    "    return distance\n",
    "\n",
    "def euclideanDistanceMultipleDimension(x,z):\n",
    "    r = tf.reduce_sum(A*A, 1)\n",
    "    d = tf.reduce_sum(B*B,1)\n",
    "    d = tf.reshape(d, [-1, 1])\n",
    "    print (d.shape)\n",
    "    r = tf.reshape(r, [-1, 1])\n",
    "    print (r.shape)\n",
    "\n",
    "\n",
    "    D = r - 2*tf.matmul(A, tf.transpose(B)) + tf.transpose(d)\n",
    "    return D\n",
    "\n",
    "def euclideanV3(x,z):\n",
    "    #get the dimension of z,x \n",
    "    z_dim = tf.shape(z) #z_dim[0] = num of rows, z_dim[1] = num of columns\n",
    "    z_row = z_dim[0]\n",
    "    z_col = z_dim[1]\n",
    "    x_dim = tf.shape(x) \n",
    "    x_row = x_dim[0]\n",
    "    x_col = x_dim[1]\n",
    "    \n",
    "    #duplicate each row in x by z_row times\n",
    "    x_expanded = tf.tile(x,[1,z_row],name='x_expanded') #note this is a flattend array\n",
    "    # get the desired shape \n",
    "    x_reshaped = tf.reshape(x_expanded,[x_row,z_row,z_col])\n",
    "    \n",
    "    #get the square of the difference, tensorflow broadcasts z to match the size of s\n",
    "    square_difference = tf.square(x_reshaped-z)\n",
    "    #reduce sum each row\n",
    "    d = tf.reduce_sum(square_difference,2)\n",
    "    return d\n",
    "    \n",
    "    \n",
    "    \n",
    "    \n",
    "a = tf.constant([1,1,1,1], name='a')\n",
    "b = tf.constant([2,5,2,2],name='b')\n",
    "c = euclideanDistance(a,b)\n",
    "   \n",
    "sess = tf.InteractiveSession()\n",
    "init = tf.global_variables_initializer()\n",
    "sess.run(init)\n",
    "\n",
    "A = tf.constant([[1, 1], [2, 2], [3, 3],[4,4]])\n",
    "B= tf.constant ([[4,4],[5,5],[6,6],[4,4]])\n",
    "D= euclideanV3(A,B)\n",
    "print(sess.run([D]))"
   ]
  },
  {
   "cell_type": "code",
   "execution_count": null,
   "metadata": {
    "collapsed": false
   },
   "outputs": [],
   "source": []
  },
  {
   "cell_type": "code",
   "execution_count": null,
   "metadata": {
    "collapsed": true
   },
   "outputs": [],
   "source": []
  },
  {
   "cell_type": "code",
   "execution_count": null,
   "metadata": {
    "collapsed": true
   },
   "outputs": [],
   "source": []
  }
 ],
 "metadata": {
  "anaconda-cloud": {},
  "kernelspec": {
   "display_name": "Python [default]",
   "language": "python",
   "name": "python3"
  },
  "language_info": {
   "codemirror_mode": {
    "name": "ipython",
    "version": 3
   },
   "file_extension": ".py",
   "mimetype": "text/x-python",
   "name": "python",
   "nbconvert_exporter": "python",
   "pygments_lexer": "ipython3",
   "version": "3.5.2"
  }
 },
 "nbformat": 4,
 "nbformat_minor": 2
}
