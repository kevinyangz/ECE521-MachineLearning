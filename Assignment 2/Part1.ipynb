{
 "cells": [
  {
   "cell_type": "code",
   "execution_count": 92,
   "metadata": {},
   "outputs": [
    {
     "data": {
      "image/png": "[encoded data removed]",
      "text/plain": [
       "<matplotlib.figure.Figure at 0x1238ec630>"
      ]
     },
     "metadata": {},
     "output_type": "display_data"
    }
   ],
   "source": [
    "import numpy as np\n",
    "import tensorflow as tf\n",
    "import matplotlib.pyplot as plt\n",
    "from random import *\n",
    "\n",
    "#Sample code for loading data\n",
    "\n",
    "def Load_data():\n",
    "    with np.load(\"notMNIST.npz\") as data :\n",
    "        Data, Target = data [\"images\"], data[\"labels\"]\n",
    "        posClass = 2\n",
    "        negClass = 9\n",
    "        dataIndx = (Target==posClass) + (Target==negClass)\n",
    "        \n",
    "        Data = Data[dataIndx]/255.\n",
    "        Target = Target[dataIndx].reshape(-1, 1)\n",
    "        Target[Target==posClass] = 1\n",
    "        Target[Target==negClass] = 0\n",
    "        np.random.seed(521)\n",
    "        randIndx = np.arange(len(Data))\n",
    "        np.random.shuffle(randIndx)\n",
    "        Data, Target = Data[randIndx], Target[randIndx]\n",
    "        trainData, trainTarget = Data[:3500], Target[:3500]\n",
    "        validData, validTarget = Data[3500:3600], Target[3500:3600]\n",
    "        testData, testTarget = Data[3600:], Target[3600:]\n",
    "        #trainData is a tuple of size 3500\n",
    "        return trainData,trainTarget,validData,validTarget,testData,testTarget\n",
    "\n",
    "def build_graph():\n",
    "        W = tf.Variable(tf.truncated_normal(shape=[784,1], stddev=0.5), name='weights') #not too sure about stddev\n",
    "        b = tf.Variable(0.0, name='biases')\n",
    "        X = tf.placeholder(tf.float32, [None, 784], name='input_x')\n",
    "        y_target = tf.placeholder(tf.float32, [None,1], name='target_y')\n",
    "        learn_rate=tf.placeholder(tf.float32,shape=[],name='learn_rate')\n",
    "\n",
    "        # Graph definition\n",
    "        y_predicted = tf.matmul(X,W) + b\n",
    "     \n",
    "        \n",
    "        meanSquaredError = tf.divide(tf.reduce_mean(tf.reduce_sum(tf.square(y_predicted - y_target), \n",
    "                                                        reduction_indices=1, \n",
    "                                                        name='squared_error'), \n",
    "                                          name='mean_squared_error'),2)\n",
    "        #tf.meanSquaredError()\n",
    "        \n",
    "        optimizer = tf.train.GradientDescentOptimizer(learning_rate = learn_rate)\n",
    "        train = optimizer.minimize(loss=meanSquaredError)\n",
    "        return W, b, X, y_target, y_predicted,learn_rate,meanSquaredError, train\n",
    "\n",
    "        \n",
    "        \n",
    "        \n",
    "trainData,trainTarget,validData,validTarget,testData,testTarget=Load_data()\n",
    "w,b,x,y_target,y_predicted,learn_rate,mse,train=build_graph()\n",
    "\n",
    "#Reshape the data to N x 784 format\n",
    "N=len(trainData)\n",
    "trainData = np.reshape(trainData, [N, 28*28])\n",
    "#print(trainTarget)\n",
    "init = tf.global_variables_initializer()\n",
    "sess = tf.InteractiveSession()\n",
    "sess.run(init)\n",
    "learn= [0.005,0.001,0.0001]\n",
    "result=[]\n",
    "epochs=0\n",
    "for rate in learn:\n",
    "    learnrate=rate\n",
    "    tempresult=[]\n",
    "    for step in range(0,20000):\n",
    "        randomshuffle= randint(1, 3000)+500\n",
    "        minix=trainData[randomshuffle-500:randomshuffle]\n",
    "        miniy=trainTarget[randomshuffle-500:randomshuffle]\n",
    "        _, err, currentW, currentb, yhat = sess.run([train, mse, w, b, y_predicted], feed_dict={x: minix, y_target: miniy,learn_rate:learnrate})\n",
    "        if(step%7==0):\n",
    "            tempresult.append(err)\n",
    "    epochs=(len(tempresult))\n",
    "    result.append(tempresult)\n",
    "\n",
    "x = np.arange(epochs)\n",
    "y = result[0]\n",
    "color=['r','g','b']\n",
    "for idx, val in enumerate(learn):\n",
    "    line, = plt.plot(x, result[idx],color=color[idx], label=\"learning rate: \"+str(val))\n",
    "    \n",
    "plt.legend(loc='upper right', shadow=True, fontsize='x-large')\n",
    "\n",
    "    \n",
    "plt.ylabel('Training loss')\n",
    "plt.xlabel('Number of Epochs')\n",
    "plt.show()"
   ]
  },
  {
   "cell_type": "markdown",
   "metadata": {},
   "source": [
    "# "
   ]
  },
  {
   "cell_type": "code",
   "execution_count": null,
   "metadata": {},
   "outputs": [],
   "source": []
  }
 ],
 "metadata": {
  "kernelspec": {
   "display_name": "Python 3",
   "language": "python",
   "name": "python3"
  },
  "language_info": {
   "codemirror_mode": {
    "name": "ipython",
    "version": 3
   },
   "file_extension": ".py",
   "mimetype": "text/x-python",
   "name": "python",
   "nbconvert_exporter": "python",
   "pygments_lexer": "ipython3",
   "version": "3.6.3"
  }
 },
 "nbformat": 4,
 "nbformat_minor": 2
}
